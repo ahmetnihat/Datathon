{
 "cells": [
  {
   "cell_type": "code",
   "execution_count": 1,
   "id": "b1eccf4e",
   "metadata": {},
   "outputs": [
    {
     "name": "stdout",
     "output_type": "stream",
     "text": [
      "DataMacpy Setup\n"
     ]
    }
   ],
   "source": [
    "import pandas as pd\n",
    "import numpy as np\n",
    "import datetime as dt\n",
    "import seaborn as sns\n",
    "import matplotlib as plt\n",
    "from DataMacpy import *\n",
    "from sklearn.preprocessing import LabelEncoder, OrdinalEncoder\n",
    "from sklearn.model_selection import train_test_split\n",
    "import matplotlib.pyplot as plt\n",
    "from keras.models import Sequential\n",
    "from keras.layers import LSTM, Dense, BatchNormalization"
   ]
  },
  {
   "cell_type": "code",
   "execution_count": 2,
   "id": "c59a9974",
   "metadata": {},
   "outputs": [],
   "source": [
    "df = pd.read_csv(\"train3.csv\")"
   ]
  },
  {
   "cell_type": "code",
   "execution_count": 3,
   "id": "adbc18a4",
   "metadata": {},
   "outputs": [],
   "source": [
    "df.rename(columns ={'Dağıtılan Enerji (MWh)':'DE'}, inplace=True)"
   ]
  },
  {
   "cell_type": "code",
   "execution_count": 4,
   "id": "ae95e7a0",
   "metadata": {},
   "outputs": [],
   "source": [
    "y = df.DE"
   ]
  },
  {
   "cell_type": "code",
   "execution_count": 5,
   "id": "fe972a3d",
   "metadata": {},
   "outputs": [],
   "source": [
    "X = df.copy()\n",
    "X.drop([\"DE\", \"date\", \"hour\"], axis=1, inplace=True)"
   ]
  },
  {
   "cell_type": "code",
   "execution_count": 6,
   "id": "3902cbfa",
   "metadata": {},
   "outputs": [],
   "source": [
    "object_cols, d = calc_object_cols(X)"
   ]
  },
  {
   "cell_type": "code",
   "execution_count": 7,
   "id": "7ba30f33",
   "metadata": {},
   "outputs": [
    {
     "data": {
      "text/plain": [
       "['season', 'HourControl']"
      ]
     },
     "execution_count": 7,
     "metadata": {},
     "output_type": "execute_result"
    }
   ],
   "source": [
    "object_cols"
   ]
  },
  {
   "cell_type": "code",
   "execution_count": 8,
   "id": "fdd86ee2",
   "metadata": {},
   "outputs": [],
   "source": [
    "# Verilerimize OrdinalEncoder uyguluyoruz. OneHot denemesi yapılacak!\n",
    "ordinal_encoder = OrdinalEncoder()\n",
    "X[object_cols] = ordinal_encoder.fit_transform(X[object_cols])"
   ]
  },
  {
   "cell_type": "code",
   "execution_count": 9,
   "id": "c3cf7b8d",
   "metadata": {},
   "outputs": [],
   "source": [
    "# Verilerimizi train ve validation olarak ayırıyoruz.\n",
    "X_train, X_valid, y_train, y_valid = train_test_split(X, y, train_size=0.8, test_size=0.2, random_state=0)"
   ]
  },
  {
   "cell_type": "code",
   "execution_count": 10,
   "id": "bf492a79",
   "metadata": {},
   "outputs": [
    {
     "data": {
      "text/plain": [
       "'from sklearn.preprocessing import MinMaxScaler\\n\\nscaler = MinMaxScaler(feature_range=(0, 1))\\ntrain_scaled = scaler.fit_transform(train)\\ntest_scaled = scaler.transform(test)'"
      ]
     },
     "execution_count": 10,
     "metadata": {},
     "output_type": "execute_result"
    }
   ],
   "source": [
    "\"\"\"from sklearn.preprocessing import MinMaxScaler\n",
    "\n",
    "scaler = MinMaxScaler(feature_range=(0, 1))\n",
    "train_scaled = scaler.fit_transform(train)\n",
    "test_scaled = scaler.transform(test)\"\"\""
   ]
  },
  {
   "cell_type": "code",
   "execution_count": 11,
   "id": "da3766b9",
   "metadata": {},
   "outputs": [
    {
     "data": {
      "text/html": [
       "<div>\n",
       "<style scoped>\n",
       "    .dataframe tbody tr th:only-of-type {\n",
       "        vertical-align: middle;\n",
       "    }\n",
       "\n",
       "    .dataframe tbody tr th {\n",
       "        vertical-align: top;\n",
       "    }\n",
       "\n",
       "    .dataframe thead th {\n",
       "        text-align: right;\n",
       "    }\n",
       "</style>\n",
       "<table border=\"1\" class=\"dataframe\">\n",
       "  <thead>\n",
       "    <tr style=\"text-align: right;\">\n",
       "      <th></th>\n",
       "      <th>month</th>\n",
       "      <th>year</th>\n",
       "      <th>o_clock</th>\n",
       "      <th>season</th>\n",
       "      <th>HourControl</th>\n",
       "    </tr>\n",
       "  </thead>\n",
       "  <tbody>\n",
       "    <tr>\n",
       "      <th>27039</th>\n",
       "      <td>1</td>\n",
       "      <td>2021</td>\n",
       "      <td>15</td>\n",
       "      <td>3.0</td>\n",
       "      <td>0.0</td>\n",
       "    </tr>\n",
       "    <tr>\n",
       "      <th>2485</th>\n",
       "      <td>4</td>\n",
       "      <td>2018</td>\n",
       "      <td>13</td>\n",
       "      <td>1.0</td>\n",
       "      <td>0.0</td>\n",
       "    </tr>\n",
       "    <tr>\n",
       "      <th>9857</th>\n",
       "      <td>2</td>\n",
       "      <td>2019</td>\n",
       "      <td>17</td>\n",
       "      <td>3.0</td>\n",
       "      <td>0.0</td>\n",
       "    </tr>\n",
       "    <tr>\n",
       "      <th>36056</th>\n",
       "      <td>2</td>\n",
       "      <td>2022</td>\n",
       "      <td>8</td>\n",
       "      <td>3.0</td>\n",
       "      <td>0.0</td>\n",
       "    </tr>\n",
       "    <tr>\n",
       "      <th>19522</th>\n",
       "      <td>3</td>\n",
       "      <td>2020</td>\n",
       "      <td>10</td>\n",
       "      <td>1.0</td>\n",
       "      <td>0.0</td>\n",
       "    </tr>\n",
       "    <tr>\n",
       "      <th>...</th>\n",
       "      <td>...</td>\n",
       "      <td>...</td>\n",
       "      <td>...</td>\n",
       "      <td>...</td>\n",
       "      <td>...</td>\n",
       "    </tr>\n",
       "    <tr>\n",
       "      <th>20757</th>\n",
       "      <td>5</td>\n",
       "      <td>2020</td>\n",
       "      <td>21</td>\n",
       "      <td>1.0</td>\n",
       "      <td>1.0</td>\n",
       "    </tr>\n",
       "    <tr>\n",
       "      <th>32103</th>\n",
       "      <td>8</td>\n",
       "      <td>2021</td>\n",
       "      <td>15</td>\n",
       "      <td>2.0</td>\n",
       "      <td>0.0</td>\n",
       "    </tr>\n",
       "    <tr>\n",
       "      <th>30403</th>\n",
       "      <td>6</td>\n",
       "      <td>2021</td>\n",
       "      <td>19</td>\n",
       "      <td>2.0</td>\n",
       "      <td>1.0</td>\n",
       "    </tr>\n",
       "    <tr>\n",
       "      <th>21243</th>\n",
       "      <td>6</td>\n",
       "      <td>2020</td>\n",
       "      <td>3</td>\n",
       "      <td>2.0</td>\n",
       "      <td>1.0</td>\n",
       "    </tr>\n",
       "    <tr>\n",
       "      <th>2732</th>\n",
       "      <td>4</td>\n",
       "      <td>2018</td>\n",
       "      <td>20</td>\n",
       "      <td>1.0</td>\n",
       "      <td>1.0</td>\n",
       "    </tr>\n",
       "  </tbody>\n",
       "</table>\n",
       "<p>32121 rows × 5 columns</p>\n",
       "</div>"
      ],
      "text/plain": [
       "       month  year  o_clock  season  HourControl\n",
       "27039      1  2021       15     3.0          0.0\n",
       "2485       4  2018       13     1.0          0.0\n",
       "9857       2  2019       17     3.0          0.0\n",
       "36056      2  2022        8     3.0          0.0\n",
       "19522      3  2020       10     1.0          0.0\n",
       "...      ...   ...      ...     ...          ...\n",
       "20757      5  2020       21     1.0          1.0\n",
       "32103      8  2021       15     2.0          0.0\n",
       "30403      6  2021       19     2.0          1.0\n",
       "21243      6  2020        3     2.0          1.0\n",
       "2732       4  2018       20     1.0          1.0\n",
       "\n",
       "[32121 rows x 5 columns]"
      ]
     },
     "execution_count": 11,
     "metadata": {},
     "output_type": "execute_result"
    }
   ],
   "source": [
    "X_train"
   ]
  },
  {
   "cell_type": "code",
   "execution_count": 12,
   "id": "b246bc66",
   "metadata": {},
   "outputs": [
    {
     "data": {
      "text/html": [
       "<div>\n",
       "<style scoped>\n",
       "    .dataframe tbody tr th:only-of-type {\n",
       "        vertical-align: middle;\n",
       "    }\n",
       "\n",
       "    .dataframe tbody tr th {\n",
       "        vertical-align: top;\n",
       "    }\n",
       "\n",
       "    .dataframe thead th {\n",
       "        text-align: right;\n",
       "    }\n",
       "</style>\n",
       "<table border=\"1\" class=\"dataframe\">\n",
       "  <thead>\n",
       "    <tr style=\"text-align: right;\">\n",
       "      <th></th>\n",
       "      <th>month</th>\n",
       "      <th>year</th>\n",
       "      <th>o_clock</th>\n",
       "      <th>season</th>\n",
       "      <th>HourControl</th>\n",
       "    </tr>\n",
       "  </thead>\n",
       "  <tbody>\n",
       "    <tr>\n",
       "      <th>28238</th>\n",
       "      <td>3</td>\n",
       "      <td>2021</td>\n",
       "      <td>14</td>\n",
       "      <td>1.0</td>\n",
       "      <td>0.0</td>\n",
       "    </tr>\n",
       "    <tr>\n",
       "      <th>36096</th>\n",
       "      <td>2</td>\n",
       "      <td>2022</td>\n",
       "      <td>0</td>\n",
       "      <td>3.0</td>\n",
       "      <td>1.0</td>\n",
       "    </tr>\n",
       "    <tr>\n",
       "      <th>22447</th>\n",
       "      <td>7</td>\n",
       "      <td>2020</td>\n",
       "      <td>7</td>\n",
       "      <td>2.0</td>\n",
       "      <td>0.0</td>\n",
       "    </tr>\n",
       "    <tr>\n",
       "      <th>5389</th>\n",
       "      <td>8</td>\n",
       "      <td>2018</td>\n",
       "      <td>13</td>\n",
       "      <td>2.0</td>\n",
       "      <td>0.0</td>\n",
       "    </tr>\n",
       "    <tr>\n",
       "      <th>15609</th>\n",
       "      <td>10</td>\n",
       "      <td>2019</td>\n",
       "      <td>9</td>\n",
       "      <td>0.0</td>\n",
       "      <td>0.0</td>\n",
       "    </tr>\n",
       "    <tr>\n",
       "      <th>...</th>\n",
       "      <td>...</td>\n",
       "      <td>...</td>\n",
       "      <td>...</td>\n",
       "      <td>...</td>\n",
       "      <td>...</td>\n",
       "    </tr>\n",
       "    <tr>\n",
       "      <th>35230</th>\n",
       "      <td>1</td>\n",
       "      <td>2022</td>\n",
       "      <td>22</td>\n",
       "      <td>3.0</td>\n",
       "      <td>1.0</td>\n",
       "    </tr>\n",
       "    <tr>\n",
       "      <th>1522</th>\n",
       "      <td>3</td>\n",
       "      <td>2018</td>\n",
       "      <td>10</td>\n",
       "      <td>1.0</td>\n",
       "      <td>0.0</td>\n",
       "    </tr>\n",
       "    <tr>\n",
       "      <th>20090</th>\n",
       "      <td>4</td>\n",
       "      <td>2020</td>\n",
       "      <td>2</td>\n",
       "      <td>1.0</td>\n",
       "      <td>1.0</td>\n",
       "    </tr>\n",
       "    <tr>\n",
       "      <th>8115</th>\n",
       "      <td>12</td>\n",
       "      <td>2018</td>\n",
       "      <td>3</td>\n",
       "      <td>3.0</td>\n",
       "      <td>1.0</td>\n",
       "    </tr>\n",
       "    <tr>\n",
       "      <th>8035</th>\n",
       "      <td>12</td>\n",
       "      <td>2018</td>\n",
       "      <td>19</td>\n",
       "      <td>3.0</td>\n",
       "      <td>1.0</td>\n",
       "    </tr>\n",
       "  </tbody>\n",
       "</table>\n",
       "<p>8031 rows × 5 columns</p>\n",
       "</div>"
      ],
      "text/plain": [
       "       month  year  o_clock  season  HourControl\n",
       "28238      3  2021       14     1.0          0.0\n",
       "36096      2  2022        0     3.0          1.0\n",
       "22447      7  2020        7     2.0          0.0\n",
       "5389       8  2018       13     2.0          0.0\n",
       "15609     10  2019        9     0.0          0.0\n",
       "...      ...   ...      ...     ...          ...\n",
       "35230      1  2022       22     3.0          1.0\n",
       "1522       3  2018       10     1.0          0.0\n",
       "20090      4  2020        2     1.0          1.0\n",
       "8115      12  2018        3     3.0          1.0\n",
       "8035      12  2018       19     3.0          1.0\n",
       "\n",
       "[8031 rows x 5 columns]"
      ]
     },
     "execution_count": 12,
     "metadata": {},
     "output_type": "execute_result"
    }
   ],
   "source": [
    "X_valid"
   ]
  },
  {
   "cell_type": "code",
   "execution_count": 13,
   "id": "96864cc6",
   "metadata": {},
   "outputs": [
    {
     "data": {
      "text/plain": [
       "32121"
      ]
     },
     "execution_count": 13,
     "metadata": {},
     "output_type": "execute_result"
    }
   ],
   "source": [
    "X_train.shape[0]"
   ]
  },
  {
   "cell_type": "code",
   "execution_count": 14,
   "id": "8783e5a5",
   "metadata": {},
   "outputs": [
    {
     "data": {
      "text/plain": [
       "5"
      ]
     },
     "execution_count": 14,
     "metadata": {},
     "output_type": "execute_result"
    }
   ],
   "source": [
    "X_train.shape[1]"
   ]
  },
  {
   "cell_type": "code",
   "execution_count": 15,
   "id": "9e184b60",
   "metadata": {},
   "outputs": [],
   "source": [
    "X_train2 = X_train.to_numpy()"
   ]
  },
  {
   "cell_type": "code",
   "execution_count": 16,
   "id": "3aa70c62",
   "metadata": {},
   "outputs": [
    {
     "data": {
      "text/plain": [
       "array([[1.000e+00, 2.021e+03, 1.500e+01, 3.000e+00, 0.000e+00],\n",
       "       [4.000e+00, 2.018e+03, 1.300e+01, 1.000e+00, 0.000e+00],\n",
       "       [2.000e+00, 2.019e+03, 1.700e+01, 3.000e+00, 0.000e+00],\n",
       "       ...,\n",
       "       [6.000e+00, 2.021e+03, 1.900e+01, 2.000e+00, 1.000e+00],\n",
       "       [6.000e+00, 2.020e+03, 3.000e+00, 2.000e+00, 1.000e+00],\n",
       "       [4.000e+00, 2.018e+03, 2.000e+01, 1.000e+00, 1.000e+00]])"
      ]
     },
     "execution_count": 16,
     "metadata": {},
     "output_type": "execute_result"
    }
   ],
   "source": [
    "X_train2"
   ]
  },
  {
   "cell_type": "code",
   "execution_count": 17,
   "id": "f6502f77",
   "metadata": {},
   "outputs": [
    {
     "data": {
      "text/plain": [
       "(32121, 5)"
      ]
     },
     "execution_count": 17,
     "metadata": {},
     "output_type": "execute_result"
    }
   ],
   "source": [
    "X_train2.shape"
   ]
  },
  {
   "cell_type": "code",
   "execution_count": 18,
   "id": "f84905d7",
   "metadata": {},
   "outputs": [
    {
     "data": {
      "text/plain": [
       "(32121, 5)"
      ]
     },
     "execution_count": 18,
     "metadata": {},
     "output_type": "execute_result"
    }
   ],
   "source": [
    "X_train.shape"
   ]
  },
  {
   "cell_type": "code",
   "execution_count": 19,
   "id": "14da8e09",
   "metadata": {},
   "outputs": [],
   "source": [
    "X_train2 = np.reshape(X_train2, (X_train2.shape[0], X_train2.shape[1], 1))"
   ]
  },
  {
   "cell_type": "code",
   "execution_count": 20,
   "id": "42f3b746",
   "metadata": {},
   "outputs": [
    {
     "data": {
      "text/plain": [
       "(32121, 5, 1)"
      ]
     },
     "execution_count": 20,
     "metadata": {},
     "output_type": "execute_result"
    }
   ],
   "source": [
    "X_train2.shape"
   ]
  },
  {
   "cell_type": "code",
   "execution_count": 21,
   "id": "f106be55",
   "metadata": {},
   "outputs": [],
   "source": [
    "X_valid2 = X_valid.to_numpy()"
   ]
  },
  {
   "cell_type": "code",
   "execution_count": 22,
   "id": "29720433",
   "metadata": {},
   "outputs": [],
   "source": [
    "X_valid2 = np.reshape(X_valid2, (X_valid2.shape[0], X_valid2.shape[1], 1))"
   ]
  },
  {
   "cell_type": "code",
   "execution_count": 148,
   "id": "c7f5192f",
   "metadata": {},
   "outputs": [],
   "source": [
    "model = Sequential()\n",
    "model.add(LSTM(256, input_shape = (5, 1)))  # This is my first hidden layer with 128 memory blocks\n",
    "model.add(Dense(128))\n",
    "model.add(Dense(64, activation='relu'))\n",
    "model.add(Dense(32))\n",
    "model.add(Dense(1))   # This is my output layer\n",
    "model.compile(loss = 'mean_squared_error', optimizer = 'adam')"
   ]
  },
  {
   "cell_type": "code",
   "execution_count": 149,
   "id": "474c53d8",
   "metadata": {},
   "outputs": [
    {
     "name": "stdout",
     "output_type": "stream",
     "text": [
      "Model: \"sequential_18\"\n",
      "_________________________________________________________________\n",
      " Layer (type)                Output Shape              Param #   \n",
      "=================================================================\n",
      " lstm_31 (LSTM)              (None, 256)               264192    \n",
      "                                                                 \n",
      " dense_30 (Dense)            (None, 128)               32896     \n",
      "                                                                 \n",
      " dense_31 (Dense)            (None, 64)                8256      \n",
      "                                                                 \n",
      " dense_32 (Dense)            (None, 32)                2080      \n",
      "                                                                 \n",
      " dense_33 (Dense)            (None, 1)                 33        \n",
      "                                                                 \n",
      "=================================================================\n",
      "Total params: 307,457\n",
      "Trainable params: 307,457\n",
      "Non-trainable params: 0\n",
      "_________________________________________________________________\n"
     ]
    }
   ],
   "source": [
    "model.summary()"
   ]
  },
  {
   "cell_type": "code",
   "execution_count": 150,
   "id": "69700bb0",
   "metadata": {},
   "outputs": [
    {
     "name": "stdout",
     "output_type": "stream",
     "text": [
      "Epoch 1/20\n",
      "251/251 [==============================] - 11s 36ms/step - loss: 643510.5625\n",
      "Epoch 2/20\n",
      "251/251 [==============================] - 9s 36ms/step - loss: 104889.3359\n",
      "Epoch 3/20\n",
      "251/251 [==============================] - 9s 36ms/step - loss: 96804.0938\n",
      "Epoch 4/20\n",
      "251/251 [==============================] - 10s 39ms/step - loss: 88467.4688\n",
      "Epoch 5/20\n",
      "251/251 [==============================] - 10s 40ms/step - loss: 67902.9453\n",
      "Epoch 6/20\n",
      "251/251 [==============================] - 11s 43ms/step - loss: 62647.1523\n",
      "Epoch 7/20\n",
      "251/251 [==============================] - 9s 35ms/step - loss: 56766.2695\n",
      "Epoch 8/20\n",
      "251/251 [==============================] - 9s 35ms/step - loss: 50339.1016\n",
      "Epoch 9/20\n",
      "251/251 [==============================] - 9s 37ms/step - loss: 48362.0820\n",
      "Epoch 10/20\n",
      "251/251 [==============================] - 9s 35ms/step - loss: 47360.8203\n",
      "Epoch 11/20\n",
      "251/251 [==============================] - 9s 34ms/step - loss: 47403.8438\n",
      "Epoch 12/20\n",
      "251/251 [==============================] - 9s 38ms/step - loss: 46763.1719\n",
      "Epoch 13/20\n",
      "251/251 [==============================] - 9s 36ms/step - loss: 45949.6445\n",
      "Epoch 14/20\n",
      "251/251 [==============================] - 9s 36ms/step - loss: 45325.9922\n",
      "Epoch 15/20\n",
      "251/251 [==============================] - 9s 35ms/step - loss: 45755.1992\n",
      "Epoch 16/20\n",
      "251/251 [==============================] - 9s 37ms/step - loss: 45553.7578\n",
      "Epoch 17/20\n",
      "251/251 [==============================] - 9s 35ms/step - loss: 45064.1719\n",
      "Epoch 18/20\n",
      "251/251 [==============================] - 9s 35ms/step - loss: 44329.8359\n",
      "Epoch 19/20\n",
      "251/251 [==============================] - 9s 36ms/step - loss: 44564.7656\n",
      "Epoch 20/20\n",
      "251/251 [==============================] - 9s 35ms/step - loss: 44355.6445\n"
     ]
    }
   ],
   "source": [
    "history = model.fit(X_train2, y_train, epochs=20, batch_size=128)"
   ]
  },
  {
   "cell_type": "code",
   "execution_count": 184,
   "id": "70cc1277",
   "metadata": {},
   "outputs": [
    {
     "name": "stdout",
     "output_type": "stream",
     "text": [
      "251/251 [==============================] - 2s 8ms/step\n"
     ]
    }
   ],
   "source": [
    "y_pred = model.predict(X_valid2)"
   ]
  },
  {
   "cell_type": "code",
   "execution_count": 152,
   "id": "527bb750",
   "metadata": {},
   "outputs": [
    {
     "data": {
      "text/plain": [
       "array([[1936.2886],\n",
       "       [1713.6718],\n",
       "       [1671.8463],\n",
       "       [2634.765 ],\n",
       "       [1755.1746]], dtype=float32)"
      ]
     },
     "execution_count": 152,
     "metadata": {},
     "output_type": "execute_result"
    }
   ],
   "source": [
    "y_pred[:5]"
   ]
  },
  {
   "cell_type": "code",
   "execution_count": 153,
   "id": "42e9bc44",
   "metadata": {},
   "outputs": [
    {
     "data": {
      "text/plain": [
       "28238    2047.054460\n",
       "36096    1671.202000\n",
       "22447    1845.658259\n",
       "5389     2686.360736\n",
       "15609    1303.162531\n",
       "Name: DE, dtype: float64"
      ]
     },
     "execution_count": 153,
     "metadata": {},
     "output_type": "execute_result"
    }
   ],
   "source": [
    "y_valid[:5]"
   ]
  },
  {
   "cell_type": "code",
   "execution_count": 154,
   "id": "af723da2",
   "metadata": {},
   "outputs": [
    {
     "data": {
      "text/plain": [
       "8.255703413750554"
      ]
     },
     "execution_count": 154,
     "metadata": {},
     "output_type": "execute_result"
    }
   ],
   "source": [
    "from sklearn.metrics import mean_absolute_percentage_error\n",
    "mean_absolute_percentage_error(y_valid, y_pred)*100"
   ]
  },
  {
   "cell_type": "code",
   "execution_count": 155,
   "id": "d474eadd",
   "metadata": {},
   "outputs": [],
   "source": [
    "# 9.26 (aktivasyon fonksiyonsuz)\n",
    "# 8.93 ('relu')\n",
    "# 8.75 (20'den 10 epoch'a düşürüldü dense katmanı artırıldı)\n",
    "# 8.35 (20 epoch dense katmanı artırılmış şekilde bir dense katmanına 'relu' fonksiyonu eklendi)\n",
    "# 8.25 (iyileştirmeler yapıldı.)"
   ]
  },
  {
   "cell_type": "code",
   "execution_count": 156,
   "id": "e915987a",
   "metadata": {},
   "outputs": [
    {
     "data": {
      "text/plain": [
       "<AxesSubplot: >"
      ]
     },
     "execution_count": 156,
     "metadata": {},
     "output_type": "execute_result"
    },
    {
     "data": {
      "image/png": "[encoded data removed]",
      "text/plain": [
       "<Figure size 640x480 with 1 Axes>"
      ]
     },
     "metadata": {},
     "output_type": "display_data"
    }
   ],
   "source": [
    "history_df = pd.DataFrame(history.history)\n",
    "history_df.plot()"
   ]
  },
  {
   "cell_type": "code",
   "execution_count": 185,
   "id": "7cd08d98",
   "metadata": {},
   "outputs": [
    {
     "data": {
      "text/plain": [
       "7.419465931357161"
      ]
     },
     "execution_count": 185,
     "metadata": {},
     "output_type": "execute_result"
    }
   ],
   "source": [
    "from sklearn.ensemble import ExtraTreesRegressor\n",
    "model2 = ExtraTreesRegressor()\n",
    "model2.fit(X_train, y_train)\n",
    "y_pred2 = model2.predict(X_valid)\n",
    "mean_absolute_percentage_error(y_valid, y_pred2)*100"
   ]
  },
  {
   "cell_type": "code",
   "execution_count": 186,
   "id": "ab8ad056",
   "metadata": {},
   "outputs": [
    {
     "data": {
      "text/plain": [
       "(8031, 1)"
      ]
     },
     "execution_count": 186,
     "metadata": {},
     "output_type": "execute_result"
    }
   ],
   "source": [
    "y_pred.shape"
   ]
  },
  {
   "cell_type": "code",
   "execution_count": 187,
   "id": "cca69b21",
   "metadata": {},
   "outputs": [
    {
     "data": {
      "text/plain": [
       "(8031,)"
      ]
     },
     "execution_count": 187,
     "metadata": {},
     "output_type": "execute_result"
    }
   ],
   "source": [
    "y_pred2.shape"
   ]
  },
  {
   "cell_type": "code",
   "execution_count": 193,
   "id": "d8a5f7a9",
   "metadata": {},
   "outputs": [],
   "source": [
    "y_pred = y_pred.reshape(8031,)"
   ]
  },
  {
   "cell_type": "code",
   "execution_count": 198,
   "id": "d38e4d79",
   "metadata": {},
   "outputs": [],
   "source": [
    "y_pred3 = None\n",
    "y_pred3 = y_pred * 0.2 + y_pred2 * 0.8"
   ]
  },
  {
   "cell_type": "code",
   "execution_count": 199,
   "id": "0741541f",
   "metadata": {},
   "outputs": [
    {
     "data": {
      "text/plain": [
       "7.3851817522398555"
      ]
     },
     "execution_count": 199,
     "metadata": {},
     "output_type": "execute_result"
    }
   ],
   "source": [
    "mean_absolute_percentage_error(y_valid, y_pred3)*100"
   ]
  },
  {
   "cell_type": "code",
   "execution_count": null,
   "id": "104b3f50",
   "metadata": {},
   "outputs": [],
   "source": []
  }
 ],
 "metadata": {
  "kernelspec": {
   "display_name": "Python 3 (ipykernel)",
   "language": "python",
   "name": "python3"
  },
  "language_info": {
   "codemirror_mode": {
    "name": "ipython",
    "version": 3
   },
   "file_extension": ".py",
   "mimetype": "text/x-python",
   "name": "python",
   "nbconvert_exporter": "python",
   "pygments_lexer": "ipython3",
   "version": "3.8.13"
  }
 },
 "nbformat": 4,
 "nbformat_minor": 5
}
