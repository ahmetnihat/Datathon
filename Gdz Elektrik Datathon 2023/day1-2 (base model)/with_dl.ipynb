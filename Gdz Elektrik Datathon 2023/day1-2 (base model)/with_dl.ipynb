{
 "cells": [
  {
   "cell_type": "code",
   "execution_count": 1,
   "id": "2ce40536",
   "metadata": {},
   "outputs": [
    {
     "name": "stdout",
     "output_type": "stream",
     "text": [
      "DataMacpy Setup\n"
     ]
    }
   ],
   "source": [
    "import pandas as pd\n",
    "import numpy as np\n",
    "import datetime as dt\n",
    "import seaborn as sns\n",
    "import matplotlib as plt\n",
    "from DataMacpy import *\n",
    "from sklearn.preprocessing import LabelEncoder, OrdinalEncoder\n",
    "from sklearn.model_selection import train_test_split"
   ]
  },
  {
   "cell_type": "code",
   "execution_count": 2,
   "id": "678c8cc3",
   "metadata": {},
   "outputs": [
    {
     "data": {
      "text/html": [
       "<div>\n",
       "<style scoped>\n",
       "    .dataframe tbody tr th:only-of-type {\n",
       "        vertical-align: middle;\n",
       "    }\n",
       "\n",
       "    .dataframe tbody tr th {\n",
       "        vertical-align: top;\n",
       "    }\n",
       "\n",
       "    .dataframe thead th {\n",
       "        text-align: right;\n",
       "    }\n",
       "</style>\n",
       "<table border=\"1\" class=\"dataframe\">\n",
       "  <thead>\n",
       "    <tr style=\"text-align: right;\">\n",
       "      <th></th>\n",
       "      <th>Dağıtılan Enerji (MWh)</th>\n",
       "      <th>month</th>\n",
       "      <th>year</th>\n",
       "      <th>date</th>\n",
       "      <th>hour</th>\n",
       "      <th>o_clock</th>\n",
       "      <th>season</th>\n",
       "      <th>HourControl</th>\n",
       "    </tr>\n",
       "  </thead>\n",
       "  <tbody>\n",
       "    <tr>\n",
       "      <th>0</th>\n",
       "      <td>1593.944216</td>\n",
       "      <td>1</td>\n",
       "      <td>2018</td>\n",
       "      <td>2018-01-01</td>\n",
       "      <td>00:00:00</td>\n",
       "      <td>0</td>\n",
       "      <td>Winter</td>\n",
       "      <td>Night</td>\n",
       "    </tr>\n",
       "    <tr>\n",
       "      <th>1</th>\n",
       "      <td>1513.933887</td>\n",
       "      <td>1</td>\n",
       "      <td>2018</td>\n",
       "      <td>2018-01-01</td>\n",
       "      <td>01:00:00</td>\n",
       "      <td>1</td>\n",
       "      <td>Winter</td>\n",
       "      <td>Night</td>\n",
       "    </tr>\n",
       "    <tr>\n",
       "      <th>2</th>\n",
       "      <td>1402.612637</td>\n",
       "      <td>1</td>\n",
       "      <td>2018</td>\n",
       "      <td>2018-01-01</td>\n",
       "      <td>02:00:00</td>\n",
       "      <td>2</td>\n",
       "      <td>Winter</td>\n",
       "      <td>Night</td>\n",
       "    </tr>\n",
       "    <tr>\n",
       "      <th>3</th>\n",
       "      <td>1278.527266</td>\n",
       "      <td>1</td>\n",
       "      <td>2018</td>\n",
       "      <td>2018-01-01</td>\n",
       "      <td>03:00:00</td>\n",
       "      <td>3</td>\n",
       "      <td>Winter</td>\n",
       "      <td>Night</td>\n",
       "    </tr>\n",
       "    <tr>\n",
       "      <th>4</th>\n",
       "      <td>1220.697701</td>\n",
       "      <td>1</td>\n",
       "      <td>2018</td>\n",
       "      <td>2018-01-01</td>\n",
       "      <td>04:00:00</td>\n",
       "      <td>4</td>\n",
       "      <td>Winter</td>\n",
       "      <td>Night</td>\n",
       "    </tr>\n",
       "  </tbody>\n",
       "</table>\n",
       "</div>"
      ],
      "text/plain": [
       "   Dağıtılan Enerji (MWh)  month  year        date      hour  o_clock  season  \\\n",
       "0             1593.944216      1  2018  2018-01-01  00:00:00        0  Winter   \n",
       "1             1513.933887      1  2018  2018-01-01  01:00:00        1  Winter   \n",
       "2             1402.612637      1  2018  2018-01-01  02:00:00        2  Winter   \n",
       "3             1278.527266      1  2018  2018-01-01  03:00:00        3  Winter   \n",
       "4             1220.697701      1  2018  2018-01-01  04:00:00        4  Winter   \n",
       "\n",
       "  HourControl  \n",
       "0       Night  \n",
       "1       Night  \n",
       "2       Night  \n",
       "3       Night  \n",
       "4       Night  "
      ]
     },
     "execution_count": 2,
     "metadata": {},
     "output_type": "execute_result"
    }
   ],
   "source": [
    "df = pd.read_csv(\"train3.csv\")\n",
    "df.head(5)"
   ]
  },
  {
   "cell_type": "code",
   "execution_count": 3,
   "id": "b2bc6de5",
   "metadata": {},
   "outputs": [],
   "source": [
    "df.rename(columns ={'Dağıtılan Enerji (MWh)':'DE'}, inplace=True)"
   ]
  },
  {
   "cell_type": "code",
   "execution_count": 4,
   "id": "b26547df",
   "metadata": {},
   "outputs": [
    {
     "data": {
      "text/html": [
       "<div>\n",
       "<style scoped>\n",
       "    .dataframe tbody tr th:only-of-type {\n",
       "        vertical-align: middle;\n",
       "    }\n",
       "\n",
       "    .dataframe tbody tr th {\n",
       "        vertical-align: top;\n",
       "    }\n",
       "\n",
       "    .dataframe thead th {\n",
       "        text-align: right;\n",
       "    }\n",
       "</style>\n",
       "<table border=\"1\" class=\"dataframe\">\n",
       "  <thead>\n",
       "    <tr style=\"text-align: right;\">\n",
       "      <th></th>\n",
       "      <th>DE</th>\n",
       "      <th>month</th>\n",
       "      <th>year</th>\n",
       "      <th>date</th>\n",
       "      <th>hour</th>\n",
       "      <th>o_clock</th>\n",
       "      <th>season</th>\n",
       "      <th>HourControl</th>\n",
       "    </tr>\n",
       "  </thead>\n",
       "  <tbody>\n",
       "    <tr>\n",
       "      <th>40147</th>\n",
       "      <td>2492.489498</td>\n",
       "      <td>7</td>\n",
       "      <td>2022</td>\n",
       "      <td>2022-07-31</td>\n",
       "      <td>19:00:00</td>\n",
       "      <td>19</td>\n",
       "      <td>Summer</td>\n",
       "      <td>Night</td>\n",
       "    </tr>\n",
       "    <tr>\n",
       "      <th>40148</th>\n",
       "      <td>2479.958245</td>\n",
       "      <td>7</td>\n",
       "      <td>2022</td>\n",
       "      <td>2022-07-31</td>\n",
       "      <td>20:00:00</td>\n",
       "      <td>20</td>\n",
       "      <td>Summer</td>\n",
       "      <td>Night</td>\n",
       "    </tr>\n",
       "    <tr>\n",
       "      <th>40149</th>\n",
       "      <td>2485.016884</td>\n",
       "      <td>7</td>\n",
       "      <td>2022</td>\n",
       "      <td>2022-07-31</td>\n",
       "      <td>21:00:00</td>\n",
       "      <td>21</td>\n",
       "      <td>Summer</td>\n",
       "      <td>Night</td>\n",
       "    </tr>\n",
       "    <tr>\n",
       "      <th>40150</th>\n",
       "      <td>2396.574255</td>\n",
       "      <td>7</td>\n",
       "      <td>2022</td>\n",
       "      <td>2022-07-31</td>\n",
       "      <td>22:00:00</td>\n",
       "      <td>22</td>\n",
       "      <td>Summer</td>\n",
       "      <td>Night</td>\n",
       "    </tr>\n",
       "    <tr>\n",
       "      <th>40151</th>\n",
       "      <td>2285.252844</td>\n",
       "      <td>7</td>\n",
       "      <td>2022</td>\n",
       "      <td>2022-07-31</td>\n",
       "      <td>23:00:00</td>\n",
       "      <td>23</td>\n",
       "      <td>Summer</td>\n",
       "      <td>Night</td>\n",
       "    </tr>\n",
       "  </tbody>\n",
       "</table>\n",
       "</div>"
      ],
      "text/plain": [
       "                DE  month  year        date      hour  o_clock  season  \\\n",
       "40147  2492.489498      7  2022  2022-07-31  19:00:00       19  Summer   \n",
       "40148  2479.958245      7  2022  2022-07-31  20:00:00       20  Summer   \n",
       "40149  2485.016884      7  2022  2022-07-31  21:00:00       21  Summer   \n",
       "40150  2396.574255      7  2022  2022-07-31  22:00:00       22  Summer   \n",
       "40151  2285.252844      7  2022  2022-07-31  23:00:00       23  Summer   \n",
       "\n",
       "      HourControl  \n",
       "40147       Night  \n",
       "40148       Night  \n",
       "40149       Night  \n",
       "40150       Night  \n",
       "40151       Night  "
      ]
     },
     "execution_count": 4,
     "metadata": {},
     "output_type": "execute_result"
    }
   ],
   "source": [
    "df.tail(5)"
   ]
  },
  {
   "cell_type": "code",
   "execution_count": 5,
   "id": "82ec2867",
   "metadata": {},
   "outputs": [],
   "source": [
    "y = df.DE"
   ]
  },
  {
   "cell_type": "code",
   "execution_count": 6,
   "id": "6ab622cf",
   "metadata": {},
   "outputs": [
    {
     "data": {
      "text/plain": [
       "0        1593.944216\n",
       "1        1513.933887\n",
       "2        1402.612637\n",
       "3        1278.527266\n",
       "4        1220.697701\n",
       "            ...     \n",
       "40147    2492.489498\n",
       "40148    2479.958245\n",
       "40149    2485.016884\n",
       "40150    2396.574255\n",
       "40151    2285.252844\n",
       "Name: DE, Length: 40152, dtype: float64"
      ]
     },
     "execution_count": 6,
     "metadata": {},
     "output_type": "execute_result"
    }
   ],
   "source": [
    "y"
   ]
  },
  {
   "cell_type": "code",
   "execution_count": 7,
   "id": "58a487ee",
   "metadata": {},
   "outputs": [],
   "source": [
    "X = df.copy()\n",
    "X.drop([\"DE\", \"date\", \"hour\"], axis=1, inplace=True)"
   ]
  },
  {
   "cell_type": "code",
   "execution_count": 8,
   "id": "684a92c7",
   "metadata": {},
   "outputs": [
    {
     "data": {
      "text/html": [
       "<div>\n",
       "<style scoped>\n",
       "    .dataframe tbody tr th:only-of-type {\n",
       "        vertical-align: middle;\n",
       "    }\n",
       "\n",
       "    .dataframe tbody tr th {\n",
       "        vertical-align: top;\n",
       "    }\n",
       "\n",
       "    .dataframe thead th {\n",
       "        text-align: right;\n",
       "    }\n",
       "</style>\n",
       "<table border=\"1\" class=\"dataframe\">\n",
       "  <thead>\n",
       "    <tr style=\"text-align: right;\">\n",
       "      <th></th>\n",
       "      <th>month</th>\n",
       "      <th>year</th>\n",
       "      <th>o_clock</th>\n",
       "      <th>season</th>\n",
       "      <th>HourControl</th>\n",
       "    </tr>\n",
       "  </thead>\n",
       "  <tbody>\n",
       "    <tr>\n",
       "      <th>0</th>\n",
       "      <td>1</td>\n",
       "      <td>2018</td>\n",
       "      <td>0</td>\n",
       "      <td>Winter</td>\n",
       "      <td>Night</td>\n",
       "    </tr>\n",
       "    <tr>\n",
       "      <th>1</th>\n",
       "      <td>1</td>\n",
       "      <td>2018</td>\n",
       "      <td>1</td>\n",
       "      <td>Winter</td>\n",
       "      <td>Night</td>\n",
       "    </tr>\n",
       "    <tr>\n",
       "      <th>2</th>\n",
       "      <td>1</td>\n",
       "      <td>2018</td>\n",
       "      <td>2</td>\n",
       "      <td>Winter</td>\n",
       "      <td>Night</td>\n",
       "    </tr>\n",
       "    <tr>\n",
       "      <th>3</th>\n",
       "      <td>1</td>\n",
       "      <td>2018</td>\n",
       "      <td>3</td>\n",
       "      <td>Winter</td>\n",
       "      <td>Night</td>\n",
       "    </tr>\n",
       "    <tr>\n",
       "      <th>4</th>\n",
       "      <td>1</td>\n",
       "      <td>2018</td>\n",
       "      <td>4</td>\n",
       "      <td>Winter</td>\n",
       "      <td>Night</td>\n",
       "    </tr>\n",
       "    <tr>\n",
       "      <th>...</th>\n",
       "      <td>...</td>\n",
       "      <td>...</td>\n",
       "      <td>...</td>\n",
       "      <td>...</td>\n",
       "      <td>...</td>\n",
       "    </tr>\n",
       "    <tr>\n",
       "      <th>40147</th>\n",
       "      <td>7</td>\n",
       "      <td>2022</td>\n",
       "      <td>19</td>\n",
       "      <td>Summer</td>\n",
       "      <td>Night</td>\n",
       "    </tr>\n",
       "    <tr>\n",
       "      <th>40148</th>\n",
       "      <td>7</td>\n",
       "      <td>2022</td>\n",
       "      <td>20</td>\n",
       "      <td>Summer</td>\n",
       "      <td>Night</td>\n",
       "    </tr>\n",
       "    <tr>\n",
       "      <th>40149</th>\n",
       "      <td>7</td>\n",
       "      <td>2022</td>\n",
       "      <td>21</td>\n",
       "      <td>Summer</td>\n",
       "      <td>Night</td>\n",
       "    </tr>\n",
       "    <tr>\n",
       "      <th>40150</th>\n",
       "      <td>7</td>\n",
       "      <td>2022</td>\n",
       "      <td>22</td>\n",
       "      <td>Summer</td>\n",
       "      <td>Night</td>\n",
       "    </tr>\n",
       "    <tr>\n",
       "      <th>40151</th>\n",
       "      <td>7</td>\n",
       "      <td>2022</td>\n",
       "      <td>23</td>\n",
       "      <td>Summer</td>\n",
       "      <td>Night</td>\n",
       "    </tr>\n",
       "  </tbody>\n",
       "</table>\n",
       "<p>40152 rows × 5 columns</p>\n",
       "</div>"
      ],
      "text/plain": [
       "       month  year  o_clock  season HourControl\n",
       "0          1  2018        0  Winter       Night\n",
       "1          1  2018        1  Winter       Night\n",
       "2          1  2018        2  Winter       Night\n",
       "3          1  2018        3  Winter       Night\n",
       "4          1  2018        4  Winter       Night\n",
       "...      ...   ...      ...     ...         ...\n",
       "40147      7  2022       19  Summer       Night\n",
       "40148      7  2022       20  Summer       Night\n",
       "40149      7  2022       21  Summer       Night\n",
       "40150      7  2022       22  Summer       Night\n",
       "40151      7  2022       23  Summer       Night\n",
       "\n",
       "[40152 rows x 5 columns]"
      ]
     },
     "execution_count": 8,
     "metadata": {},
     "output_type": "execute_result"
    }
   ],
   "source": [
    "X"
   ]
  },
  {
   "cell_type": "code",
   "execution_count": 9,
   "id": "fe62cea7",
   "metadata": {},
   "outputs": [],
   "source": [
    "object_cols, d = calc_object_cols(X)"
   ]
  },
  {
   "cell_type": "code",
   "execution_count": 10,
   "id": "546d88dc",
   "metadata": {},
   "outputs": [
    {
     "data": {
      "text/plain": [
       "['season', 'HourControl']"
      ]
     },
     "execution_count": 10,
     "metadata": {},
     "output_type": "execute_result"
    }
   ],
   "source": [
    "object_cols"
   ]
  },
  {
   "cell_type": "code",
   "execution_count": 11,
   "id": "8df050e1",
   "metadata": {},
   "outputs": [
    {
     "data": {
      "text/html": [
       "<div>\n",
       "<style scoped>\n",
       "    .dataframe tbody tr th:only-of-type {\n",
       "        vertical-align: middle;\n",
       "    }\n",
       "\n",
       "    .dataframe tbody tr th {\n",
       "        vertical-align: top;\n",
       "    }\n",
       "\n",
       "    .dataframe thead th {\n",
       "        text-align: right;\n",
       "    }\n",
       "</style>\n",
       "<table border=\"1\" class=\"dataframe\">\n",
       "  <thead>\n",
       "    <tr style=\"text-align: right;\">\n",
       "      <th></th>\n",
       "      <th>month</th>\n",
       "      <th>year</th>\n",
       "      <th>o_clock</th>\n",
       "      <th>season</th>\n",
       "      <th>HourControl</th>\n",
       "    </tr>\n",
       "  </thead>\n",
       "  <tbody>\n",
       "    <tr>\n",
       "      <th>0</th>\n",
       "      <td>1</td>\n",
       "      <td>2018</td>\n",
       "      <td>0</td>\n",
       "      <td>3.0</td>\n",
       "      <td>1.0</td>\n",
       "    </tr>\n",
       "    <tr>\n",
       "      <th>1</th>\n",
       "      <td>1</td>\n",
       "      <td>2018</td>\n",
       "      <td>1</td>\n",
       "      <td>3.0</td>\n",
       "      <td>1.0</td>\n",
       "    </tr>\n",
       "    <tr>\n",
       "      <th>2</th>\n",
       "      <td>1</td>\n",
       "      <td>2018</td>\n",
       "      <td>2</td>\n",
       "      <td>3.0</td>\n",
       "      <td>1.0</td>\n",
       "    </tr>\n",
       "    <tr>\n",
       "      <th>3</th>\n",
       "      <td>1</td>\n",
       "      <td>2018</td>\n",
       "      <td>3</td>\n",
       "      <td>3.0</td>\n",
       "      <td>1.0</td>\n",
       "    </tr>\n",
       "    <tr>\n",
       "      <th>4</th>\n",
       "      <td>1</td>\n",
       "      <td>2018</td>\n",
       "      <td>4</td>\n",
       "      <td>3.0</td>\n",
       "      <td>1.0</td>\n",
       "    </tr>\n",
       "    <tr>\n",
       "      <th>...</th>\n",
       "      <td>...</td>\n",
       "      <td>...</td>\n",
       "      <td>...</td>\n",
       "      <td>...</td>\n",
       "      <td>...</td>\n",
       "    </tr>\n",
       "    <tr>\n",
       "      <th>40147</th>\n",
       "      <td>7</td>\n",
       "      <td>2022</td>\n",
       "      <td>19</td>\n",
       "      <td>2.0</td>\n",
       "      <td>1.0</td>\n",
       "    </tr>\n",
       "    <tr>\n",
       "      <th>40148</th>\n",
       "      <td>7</td>\n",
       "      <td>2022</td>\n",
       "      <td>20</td>\n",
       "      <td>2.0</td>\n",
       "      <td>1.0</td>\n",
       "    </tr>\n",
       "    <tr>\n",
       "      <th>40149</th>\n",
       "      <td>7</td>\n",
       "      <td>2022</td>\n",
       "      <td>21</td>\n",
       "      <td>2.0</td>\n",
       "      <td>1.0</td>\n",
       "    </tr>\n",
       "    <tr>\n",
       "      <th>40150</th>\n",
       "      <td>7</td>\n",
       "      <td>2022</td>\n",
       "      <td>22</td>\n",
       "      <td>2.0</td>\n",
       "      <td>1.0</td>\n",
       "    </tr>\n",
       "    <tr>\n",
       "      <th>40151</th>\n",
       "      <td>7</td>\n",
       "      <td>2022</td>\n",
       "      <td>23</td>\n",
       "      <td>2.0</td>\n",
       "      <td>1.0</td>\n",
       "    </tr>\n",
       "  </tbody>\n",
       "</table>\n",
       "<p>40152 rows × 5 columns</p>\n",
       "</div>"
      ],
      "text/plain": [
       "       month  year  o_clock  season  HourControl\n",
       "0          1  2018        0     3.0          1.0\n",
       "1          1  2018        1     3.0          1.0\n",
       "2          1  2018        2     3.0          1.0\n",
       "3          1  2018        3     3.0          1.0\n",
       "4          1  2018        4     3.0          1.0\n",
       "...      ...   ...      ...     ...          ...\n",
       "40147      7  2022       19     2.0          1.0\n",
       "40148      7  2022       20     2.0          1.0\n",
       "40149      7  2022       21     2.0          1.0\n",
       "40150      7  2022       22     2.0          1.0\n",
       "40151      7  2022       23     2.0          1.0\n",
       "\n",
       "[40152 rows x 5 columns]"
      ]
     },
     "execution_count": 11,
     "metadata": {},
     "output_type": "execute_result"
    }
   ],
   "source": [
    "# Verilerimize OrdinalEncoder uyguluyoruz. OneHot denemesi yapılacak!\n",
    "ordinal_encoder = OrdinalEncoder()\n",
    "X[object_cols] = ordinal_encoder.fit_transform(X[object_cols])\n",
    "X"
   ]
  },
  {
   "cell_type": "code",
   "execution_count": 12,
   "id": "81215a43",
   "metadata": {},
   "outputs": [],
   "source": [
    "# Verilerimizi train ve validation olarak ayırıyoruz.\n",
    "X_train, X_valid, y_train, y_valid = train_test_split(X, y, train_size=0.8, test_size=0.2, random_state=0)"
   ]
  },
  {
   "cell_type": "code",
   "execution_count": 13,
   "id": "ba8ee700",
   "metadata": {},
   "outputs": [],
   "source": [
    "from sklearn import svm\n",
    "from sklearn.neural_network import MLPRegressor\n",
    "from sklearn.ensemble import ExtraTreesRegressor\n",
    "from sklearn.metrics import mean_absolute_error\n",
    "from sklearn.metrics import mean_absolute_percentage_error"
   ]
  },
  {
   "cell_type": "code",
   "execution_count": 14,
   "id": "970ddd62",
   "metadata": {},
   "outputs": [
    {
     "data": {
      "text/plain": [
       "7.419465931357161"
      ]
     },
     "execution_count": 14,
     "metadata": {},
     "output_type": "execute_result"
    }
   ],
   "source": [
    "model = ExtraTreesRegressor()\n",
    "model.fit(X_train, y_train)\n",
    "y_pred = model.predict(X_valid)\n",
    "mean_absolute_percentage_error(y_valid, y_pred) * 100"
   ]
  },
  {
   "cell_type": "code",
   "execution_count": 15,
   "id": "31ee5ccc",
   "metadata": {},
   "outputs": [],
   "source": [
    "# y_sum = y.sum()"
   ]
  },
  {
   "cell_type": "code",
   "execution_count": 16,
   "id": "6648a55c",
   "metadata": {},
   "outputs": [],
   "source": [
    "# y_sum/y.shape[0]"
   ]
  },
  {
   "cell_type": "code",
   "execution_count": 17,
   "id": "035e110d",
   "metadata": {},
   "outputs": [],
   "source": [
    "# y_pred[:5]"
   ]
  },
  {
   "cell_type": "code",
   "execution_count": 18,
   "id": "6488d068",
   "metadata": {},
   "outputs": [],
   "source": [
    "#for i, tahmin in enumerate(y_pred):\n",
    "#    if 200 < tahmin - 1700:\n",
    "#        y_pred[i] = 0.99 * y_pred[i]\n",
    "#    elif -200 > tahmin - 1700:\n",
    "#        y_pred[i] = 1.01 * y_pred[i]"
   ]
  },
  {
   "cell_type": "code",
   "execution_count": 19,
   "id": "ae022bf9",
   "metadata": {},
   "outputs": [],
   "source": [
    "#y_pred[:5]"
   ]
  },
  {
   "cell_type": "code",
   "execution_count": 20,
   "id": "94a0a643",
   "metadata": {},
   "outputs": [
    {
     "data": {
      "text/plain": [
       "7.419465931357161"
      ]
     },
     "execution_count": 20,
     "metadata": {},
     "output_type": "execute_result"
    }
   ],
   "source": [
    "mean_absolute_percentage_error(y_valid, y_pred)*100"
   ]
  },
  {
   "cell_type": "code",
   "execution_count": 21,
   "id": "8430be17",
   "metadata": {},
   "outputs": [
    {
     "name": "stdout",
     "output_type": "stream",
     "text": [
      "Epoch 1/20\n",
      "251/251 [==============================] - 5s 11ms/step - loss: 942.1489 - mae: 942.1489 - val_loss: 1386.0376 - val_mae: 1386.0376\n",
      "Epoch 2/20\n",
      "251/251 [==============================] - 2s 9ms/step - loss: 244.3623 - mae: 244.3623 - val_loss: 371.9001 - val_mae: 371.9001\n",
      "Epoch 3/20\n",
      "251/251 [==============================] - 2s 9ms/step - loss: 231.2820 - mae: 231.2820 - val_loss: 172.0694 - val_mae: 172.0694\n",
      "Epoch 4/20\n",
      "251/251 [==============================] - 3s 10ms/step - loss: 222.8941 - mae: 222.8941 - val_loss: 190.4839 - val_mae: 190.4839\n",
      "Epoch 5/20\n",
      "251/251 [==============================] - 3s 11ms/step - loss: 215.2800 - mae: 215.2800 - val_loss: 173.5523 - val_mae: 173.5523\n",
      "Epoch 6/20\n",
      "251/251 [==============================] - 2s 9ms/step - loss: 212.9373 - mae: 212.9373 - val_loss: 162.0332 - val_mae: 162.0332\n",
      "Epoch 7/20\n",
      "251/251 [==============================] - 2s 9ms/step - loss: 211.7608 - mae: 211.7608 - val_loss: 164.0684 - val_mae: 164.0684\n",
      "Epoch 8/20\n",
      "251/251 [==============================] - 2s 9ms/step - loss: 209.9707 - mae: 209.9707 - val_loss: 161.0764 - val_mae: 161.0764\n",
      "Epoch 9/20\n",
      "251/251 [==============================] - 2s 9ms/step - loss: 206.7608 - mae: 206.7608 - val_loss: 183.5018 - val_mae: 183.5018\n",
      "Epoch 10/20\n",
      "251/251 [==============================] - 2s 9ms/step - loss: 205.6482 - mae: 205.6482 - val_loss: 155.4737 - val_mae: 155.4737\n",
      "Epoch 11/20\n",
      "251/251 [==============================] - 2s 10ms/step - loss: 201.7272 - mae: 201.7272 - val_loss: 159.4083 - val_mae: 159.4083\n",
      "Epoch 12/20\n",
      "251/251 [==============================] - 3s 10ms/step - loss: 202.6570 - mae: 202.6570 - val_loss: 179.9036 - val_mae: 179.9036\n",
      "Epoch 13/20\n",
      "251/251 [==============================] - 2s 9ms/step - loss: 203.6481 - mae: 203.6481 - val_loss: 176.1901 - val_mae: 176.1901\n",
      "Epoch 14/20\n",
      "251/251 [==============================] - 2s 10ms/step - loss: 200.6609 - mae: 200.6609 - val_loss: 170.9706 - val_mae: 170.9706\n",
      "Epoch 15/20\n",
      "251/251 [==============================] - 2s 10ms/step - loss: 197.1951 - mae: 197.1951 - val_loss: 161.6074 - val_mae: 161.6074\n",
      "Epoch 16/20\n",
      "251/251 [==============================] - 2s 9ms/step - loss: 201.7853 - mae: 201.7853 - val_loss: 160.5162 - val_mae: 160.5162\n",
      "Epoch 17/20\n",
      "251/251 [==============================] - 2s 9ms/step - loss: 196.9975 - mae: 196.9975 - val_loss: 221.0836 - val_mae: 221.0836\n",
      "Epoch 18/20\n",
      "251/251 [==============================] - 2s 10ms/step - loss: 195.6169 - mae: 195.6169 - val_loss: 162.9093 - val_mae: 162.9093\n",
      "Epoch 19/20\n",
      "251/251 [==============================] - 2s 9ms/step - loss: 194.4826 - mae: 194.4826 - val_loss: 208.0141 - val_mae: 208.0141\n",
      "Epoch 20/20\n",
      "251/251 [==============================] - 2s 9ms/step - loss: 195.9504 - mae: 195.9504 - val_loss: 145.7253 - val_mae: 145.7253\n"
     ]
    }
   ],
   "source": [
    "from tensorflow import keras\n",
    "from tensorflow.keras import layers\n",
    "from tensorflow.keras.layers import Dense, LSTM\n",
    "\n",
    "dl_model = keras.Sequential([\n",
    "    layers.BatchNormalization(input_shape=[5]),\n",
    "    layers.Dense(units=512, activation=\"relu\"),\n",
    "    layers.BatchNormalization(),\n",
    "    layers.Dropout(0.3),\n",
    "    layers.Dense(units=256, activation=\"relu\"),\n",
    "    layers.BatchNormalization(),\n",
    "    layers.Dropout(0.3),\n",
    "    layers.Dense(units=256, activation=\"relu\"),\n",
    "    layers.BatchNormalization(),\n",
    "    layers.Dropout(0.3),\n",
    "    layers.Dense(units=128, activation=\"relu\"),\n",
    "    layers.BatchNormalization(),\n",
    "    layers.Dropout(0.3),\n",
    "    layers.Dense(units=128, activation=\"relu\"),\n",
    "    layers.BatchNormalization(),\n",
    "    layers.Dropout(0.3),\n",
    "    layers.Dense(units=64, activation=\"relu\"),\n",
    "    layers.Dense(1)\n",
    "])\n",
    "\n",
    "dl_model.compile(optimizer='sgd', loss='mae', metrics=['mae'],)\n",
    "\n",
    "history = dl_model.fit(X_train, y_train, batch_size=128, epochs=20, validation_data=(X_valid, y_valid),)"
   ]
  },
  {
   "cell_type": "code",
   "execution_count": 22,
   "id": "95d56f7c",
   "metadata": {},
   "outputs": [
    {
     "data": {
      "text/plain": [
       "<AxesSubplot: >"
      ]
     },
     "execution_count": 22,
     "metadata": {},
     "output_type": "execute_result"
    },
    {
     "data": {
      "image/png": "[encoded data removed]",
      "text/plain": [
       "<Figure size 640x480 with 1 Axes>"
      ]
     },
     "metadata": {},
     "output_type": "display_data"
    }
   ],
   "source": [
    "history_df = pd.DataFrame(history.history)\n",
    "history_df.plot()"
   ]
  },
  {
   "cell_type": "code",
   "execution_count": 23,
   "id": "51f6f632",
   "metadata": {},
   "outputs": [
    {
     "name": "stdout",
     "output_type": "stream",
     "text": [
      "251/251 [==============================] - 1s 2ms/step\n"
     ]
    },
    {
     "data": {
      "text/plain": [
       "8.046846374464481"
      ]
     },
     "execution_count": 23,
     "metadata": {},
     "output_type": "execute_result"
    }
   ],
   "source": [
    "y_pred2 = dl_model.predict(X_valid)\n",
    "mean_absolute_percentage_error(y_valid, y_pred2) * 100"
   ]
  },
  {
   "cell_type": "code",
   "execution_count": 24,
   "id": "d37b92dc",
   "metadata": {},
   "outputs": [
    {
     "data": {
      "text/plain": [
       "(8031,)"
      ]
     },
     "execution_count": 24,
     "metadata": {},
     "output_type": "execute_result"
    }
   ],
   "source": [
    "y_pred.shape"
   ]
  },
  {
   "cell_type": "code",
   "execution_count": 25,
   "id": "7b725e00",
   "metadata": {},
   "outputs": [
    {
     "data": {
      "text/plain": [
       "(8031, 1)"
      ]
     },
     "execution_count": 25,
     "metadata": {},
     "output_type": "execute_result"
    }
   ],
   "source": [
    "y_pred2.shape"
   ]
  },
  {
   "cell_type": "code",
   "execution_count": 26,
   "id": "1521ecbd",
   "metadata": {},
   "outputs": [],
   "source": [
    "y_pred2 = y_pred2.reshape(8031,)"
   ]
  },
  {
   "cell_type": "code",
   "execution_count": 27,
   "id": "1bed3666",
   "metadata": {},
   "outputs": [],
   "source": [
    "y_pred3 = y_pred * 0.8 + y_pred2 * 0.2"
   ]
  },
  {
   "cell_type": "code",
   "execution_count": 28,
   "id": "ea1235ee",
   "metadata": {},
   "outputs": [
    {
     "data": {
      "text/plain": [
       "array([2182.46669954, 1689.55976536, 1681.38714601, ..., 1205.22599372,\n",
       "       1375.61692154, 2342.06709545])"
      ]
     },
     "execution_count": 28,
     "metadata": {},
     "output_type": "execute_result"
    }
   ],
   "source": [
    "y_pred3"
   ]
  },
  {
   "cell_type": "code",
   "execution_count": 29,
   "id": "9cc85e4d",
   "metadata": {},
   "outputs": [
    {
     "data": {
      "text/plain": [
       "7.346179441705646"
      ]
     },
     "execution_count": 29,
     "metadata": {},
     "output_type": "execute_result"
    }
   ],
   "source": [
    "mean_absolute_percentage_error(y_valid, y_pred3) * 100"
   ]
  },
  {
   "cell_type": "code",
   "execution_count": null,
   "id": "68f43ff0",
   "metadata": {},
   "outputs": [],
   "source": []
  }
 ],
 "metadata": {
  "kernelspec": {
   "display_name": "Python 3 (ipykernel)",
   "language": "python",
   "name": "python3"
  },
  "language_info": {
   "codemirror_mode": {
    "name": "ipython",
    "version": 3
   },
   "file_extension": ".py",
   "mimetype": "text/x-python",
   "name": "python",
   "nbconvert_exporter": "python",
   "pygments_lexer": "ipython3",
   "version": "3.8.13"
  }
 },
 "nbformat": 4,
 "nbformat_minor": 5
}
