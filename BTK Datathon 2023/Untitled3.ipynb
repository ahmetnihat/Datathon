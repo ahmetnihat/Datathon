{
 "cells": [
  {
   "cell_type": "code",
   "execution_count": 64,
   "id": "b75dd99a",
   "metadata": {},
   "outputs": [],
   "source": [
    "import pandas as pd\n",
    "import numpy as np\n",
    "\n",
    "\n",
    "from sklearn.model_selection import train_test_split\n",
    "from sklearn.preprocessing import LabelEncoder, OrdinalEncoder\n",
    "from sklearn.model_selection import cross_val_score\n",
    "from sklearn.metrics import classification_report, confusion_matrix, ConfusionMatrixDisplay\n",
    "\n",
    "from DataMacpy import *"
   ]
  },
  {
   "cell_type": "code",
   "execution_count": 148,
   "id": "a0cedb71",
   "metadata": {},
   "outputs": [
    {
     "name": "stdout",
     "output_type": "stream",
     "text": [
      "Setup Complete\n"
     ]
    }
   ],
   "source": [
    "# Veriyi içeri aktaralım.\n",
    "\n",
    "# veri yolumuzu verelim\n",
    "file_path1 = 'last_dance.csv'\n",
    "\n",
    "# verimizi okuyoruz. \n",
    "df1 = pd.read_csv(file_path1)\n",
    "\n",
    "print(\"Setup Complete\")"
   ]
  },
  {
   "cell_type": "code",
   "execution_count": 150,
   "id": "1fb554e3",
   "metadata": {},
   "outputs": [
    {
     "name": "stdout",
     "output_type": "stream",
     "text": [
      "Setup Complete\n"
     ]
    }
   ],
   "source": [
    "# Veriyi içeri aktaralım.\n",
    "\n",
    "# veri yolumuzu verelim\n",
    "file_path2 = 'last_dance2.csv'\n",
    "\n",
    "# verimizi okuyoruz. \n",
    "df2 = pd.read_csv(file_path2)\n",
    "\n",
    "print(\"Setup Complete\")"
   ]
  },
  {
   "cell_type": "code",
   "execution_count": 151,
   "id": "8a15e4d1",
   "metadata": {},
   "outputs": [
    {
     "name": "stdout",
     "output_type": "stream",
     "text": [
      "         id  Öbek İsmi\n",
      "0     False      False\n",
      "1     False      False\n",
      "2     False      False\n",
      "3     False      False\n",
      "4     False      False\n",
      "...     ...        ...\n",
      "2335  False      False\n",
      "2336  False      False\n",
      "2337  False      False\n",
      "2338  False      False\n",
      "2339  False      False\n",
      "\n",
      "[2340 rows x 2 columns]\n"
     ]
    }
   ],
   "source": [
    "df = df1 != df2\n",
    "print(df)"
   ]
  },
  {
   "cell_type": "code",
   "execution_count": 152,
   "id": "174800fd",
   "metadata": {},
   "outputs": [],
   "source": [
    "row_idx, col_idx = np.where(df)"
   ]
  },
  {
   "cell_type": "code",
   "execution_count": 153,
   "id": "9b395c5a",
   "metadata": {},
   "outputs": [
    {
     "name": "stdout",
     "output_type": "stream",
     "text": [
      "[ 866 1122]\n"
     ]
    }
   ],
   "source": [
    "row_idx = np.unique(row_idx)\n",
    "print(row_idx)"
   ]
  },
  {
   "cell_type": "code",
   "execution_count": null,
   "id": "d4812144",
   "metadata": {},
   "outputs": [],
   "source": []
  }
 ],
 "metadata": {
  "kernelspec": {
   "display_name": "Python 3 (ipykernel)",
   "language": "python",
   "name": "python3"
  },
  "language_info": {
   "codemirror_mode": {
    "name": "ipython",
    "version": 3
   },
   "file_extension": ".py",
   "mimetype": "text/x-python",
   "name": "python",
   "nbconvert_exporter": "python",
   "pygments_lexer": "ipython3",
   "version": "3.8.17"
  }
 },
 "nbformat": 4,
 "nbformat_minor": 5
}
